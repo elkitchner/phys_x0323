{
 "cells": [
  {
   "cell_type": "code",
   "execution_count": 1,
   "metadata": {},
   "outputs": [
    {
     "name": "stdout",
     "output_type": "stream",
     "text": [
      "percentage of wins when staying 0.362\n",
      "percentage of wins when changing 0.624\n"
     ]
    }
   ],
   "source": [
    "import numpy as np\n",
    "\n",
    "#Monty Hall problem\n",
    "\n",
    "#there exists 3 doors\n",
    "#door 1, door 2, door 3\n",
    "\n",
    "wins=[]\n",
    "def MontyHall(num_games, picked_door, keep_switch):   \n",
    "    \n",
    "    wins_unchanged=0\n",
    "    wins_switch=0\n",
    "    doors=['a','b','c']\n",
    "    \n",
    "    for n in range (0, num_games):\n",
    "        unchosen_doors=['a','b','c']\n",
    "        #print (unchosen_doors)\n",
    "        winner=np.random.choice(doors)\n",
    "        unchosen_doors.remove(picked_door)\n",
    "        #print(unchosen_doors)\n",
    "        open_door_set=['a','b','c']\n",
    "        if picked_door==winner:\n",
    "            open_door_set.remove(winner)\n",
    "        else:\n",
    "            open_door_set.remove(winner)\n",
    "            open_door_set.remove(picked_door)\n",
    "        open_door=np.random.choice(open_door_set)\n",
    "        unchosen_doors.remove(open_door)\n",
    "        if keep_switch== \"k\":\n",
    "            if picked_door==winner:\n",
    "                wins_unchanged+=1\n",
    "        if keep_switch==\"s\":\n",
    "            if unchosen_doors[0]== winner:\n",
    "                wins_switch+=1\n",
    "    win_nochange=wins_unchanged\n",
    "    percentage_unchanged= win_nochange/num_games\n",
    "    win_withchange= wins_switch\n",
    "    percentage_switch= win_withchange/num_games\n",
    "    wins.append(percentage_unchanged)\n",
    "    wins.append(percentage_switch)\n",
    "    return wins\n",
    "#running 500 times no switch\n",
    "MontyHall(500,'a',\"k\")\n",
    "print(\"percentage of wins when staying\", wins[0])\n",
    "\n",
    "#running 500 time with switch\n",
    "MontyHall(500,'a',\"s\")\n",
    "print (\"percentage of wins when changing\",wins[-1])\n",
    "#running this game, you should see that the function is more likely to produce a win when you change\n",
    "#this is roughly 66% win chance"
   ]
  },
  {
   "cell_type": "code",
   "execution_count": 2,
   "metadata": {},
   "outputs": [
    {
     "name": "stdout",
     "output_type": "stream",
     "text": [
      "percentage of wins when staying 0.224\n",
      "percentage of wins when changing 0.362\n"
     ]
    }
   ],
   "source": [
    "#Monty Hall problem\n",
    "\n",
    "#there exists 4 doors\n",
    "#door 1, door 2, door 3, door 4\n",
    "\n",
    "wins=[]\n",
    "def MontyHall(num_games, picked_door, keep_switch):   \n",
    "    \n",
    "    wins_unchanged=0\n",
    "    wins_switch=0\n",
    "    doors=['a','b','c','d']\n",
    "    \n",
    "    for n in range (0, num_games):\n",
    "        unchosen_doors=['a','b','c','d']\n",
    "        #print (unchosen_doors)\n",
    "        winner=np.random.choice(doors)\n",
    "        unchosen_doors.remove(picked_door)\n",
    "        #print(unchosen_doors)\n",
    "        open_door_set=['a','b','c','d']\n",
    "        if picked_door==winner:\n",
    "            open_door_set.remove(winner)\n",
    "        else:\n",
    "            open_door_set.remove(winner)\n",
    "            open_door_set.remove(picked_door)\n",
    "        open_door=np.random.choice(open_door_set)\n",
    "        unchosen_doors.remove(open_door)\n",
    "        new_pick= np.random.choice(unchosen_doors)\n",
    "        if keep_switch== \"k\":\n",
    "            if picked_door==winner:\n",
    "                wins_unchanged+=1\n",
    "        if keep_switch==\"s\":\n",
    "            if new_pick== winner:\n",
    "                wins_switch+=1\n",
    "    win_nochange=wins_unchanged\n",
    "    percentage_unchanged= win_nochange/num_games\n",
    "    win_withchange= wins_switch\n",
    "    percentage_switch= win_withchange/num_games\n",
    "    wins.append(percentage_unchanged)\n",
    "    wins.append(percentage_switch)\n",
    "    return wins\n",
    "#second choice door d\n",
    "#running 500 times no switch\n",
    "MontyHall(500,'a',\"k\")\n",
    "print (\"percentage of wins when staying\",wins[0])\n",
    "#running 500 time with switch\n",
    "MontyHall(500,'a',\"s\")\n",
    "print(\"percentage of wins when changing\", wins[-1])\n",
    "\n",
    "#the percentage of winning when switching is slightly higher\n",
    "#should be 3/8 or 0.375"
   ]
  },
  {
   "cell_type": "code",
   "execution_count": null,
   "metadata": {},
   "outputs": [],
   "source": []
  }
 ],
 "metadata": {
  "kernelspec": {
   "display_name": "Python 3",
   "language": "python",
   "name": "python3"
  },
  "language_info": {
   "codemirror_mode": {
    "name": "ipython",
    "version": 3
   },
   "file_extension": ".py",
   "mimetype": "text/x-python",
   "name": "python",
   "nbconvert_exporter": "python",
   "pygments_lexer": "ipython3",
   "version": "3.7.4"
  }
 },
 "nbformat": 4,
 "nbformat_minor": 2
}
