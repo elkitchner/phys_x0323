{
 "cells": [
  {
   "cell_type": "code",
   "execution_count": 1,
   "metadata": {},
   "outputs": [],
   "source": [
    "#Emma Kitchner \n",
    "#September 30, 2019\n",
    "#import cell\n",
    "import math"
   ]
  },
  {
   "cell_type": "code",
   "execution_count": 10,
   "metadata": {},
   "outputs": [
    {
     "name": "stdout",
     "output_type": "stream",
     "text": [
      "using the standard quadratic formula, x=  -9.999894245993346e-07 , -999999.999999\n",
      "using an alternate quadratic form, x= -1.000000000001e-06 and -1000010.5755125057\n",
      "the difference between the pos numbers 1.0575401665491313e-11\n",
      "the difference between the neg numbers 10.575513505726121\n",
      "one value is -9.999894245993346e-07 the other value is -1000010.5755125057\n"
     ]
    }
   ],
   "source": [
    "#the quadratic equation\n",
    "#def function f(x) that is a polynomial\n",
    "def f(x):\n",
    "    return ax**2 + b*x +c\n",
    "a=0.001\n",
    "b=1000\n",
    "c=0.001\n",
    "#part a\n",
    "#define quadratic function that looks at the numerator or the quadratic eq\n",
    "def quadratic(a,b,c):\n",
    "    pos_x= (-b +((b**2) -(4*a*c))**(1/2))\n",
    "    neg_x=(-b -((b**2) -(4*a*c))**(1/2))\n",
    "    return pos_x , neg_x\n",
    "#call the numerator of quadratic eq\n",
    "quadratic= (quadratic(a,b,c))\n",
    "#divide the numerator by 2a\n",
    "pos_quadratic= quadratic[0] / (2*a)\n",
    "neg_quadratic =quadratic[-1]/(2*a)\n",
    "#print what x is equal to\n",
    "print(\"using the standard quadratic formula, x= \", pos_quadratic, \",\" ,neg_quadratic )\n",
    "\n",
    "#part b\n",
    "#another way to write the quadratic equation\n",
    "#multiply our quadratic function by -b-+ sqrt(b^2 -4ac) on top and bottom\n",
    "#because our previous function only had the numerator we can simply create a function that has that value in the denom.\n",
    "def alternate_quadratic(a,b,c):\n",
    "    plussign_alt=(2*c)/(quadratic[-1])\n",
    "    negsign_alt= (2*c)/(quadratic[0])\n",
    "    return plussign_alt , negsign_alt\n",
    "#call the alternate form function\n",
    "posalt_quadratic= alternate_quadratic(a,b,c)[0]\n",
    "negalt_quadratic= alternate_quadratic(a,b,c)[-1]\n",
    "print(\"using an alternate quadratic form, x=\", posalt_quadratic, \"and\", negalt_quadratic)\n",
    "\n",
    "'''def alternative(a,b,c):\n",
    "    alt_list=[]\n",
    "    neg_mult= (-b -(math.sqrt(b**2 - 4*a*c)))/(-b -(math.sqrt(b**2 - 4*a*c)))\n",
    "    pos_mult=(-b +(math.sqrt(b**2 - 4*a*c)))/(-b +(math.sqrt(b**2 - 4*a*c)))\n",
    "    neg_alt= (float(pos_quadratic))*neg_mult\n",
    "    pos_alt= (float(neg_quadratic))*neg_mult *pos_mult\n",
    "    alt_list.append(neg_alt)\n",
    "    alt_list.append (pos_alt)\n",
    "    return alt_list\n",
    "alt= alternative(a,b,c)\n",
    "print (\"using the alternative quadratic formula, x=\", alt[0] , \"and\", alt[-1])'''\n",
    "\n",
    "#checking the error\n",
    "big_number_error= pos_quadratic- posalt_quadratic\n",
    "small_number_error= neg_quadratic -negalt_quadratic\n",
    "print (\"the difference between the pos numbers\",big_number_error )\n",
    "print (\"the difference between the neg numbers\", small_number_error)\n",
    "\n",
    "#what is happening\n",
    "#because of the float values found in the two root forms the values are different from eachother by about 10. \\\\\n",
    "#this seems to be because of the way that python adds and subracts as well as rounding errors. \\\\\n",
    "#because by hand using a=1, b=3, c=2 the two ways are the exact same. \n",
    "\n",
    "def full_roots(a,b,c):\n",
    "    if 4.0*a*c < b*b*0.001 :\n",
    "        #avoid b^2-4ac it will be too big\n",
    "        use_these_list=[]\n",
    "        use_these_list.append(pos_quadratic)\n",
    "        use_these_list.append (negalt_quadratic)\n",
    "        return use_these_list\n",
    "    elif b*b- 4*a*c < 0:\n",
    "        return \"Warning: we have imaginary numbers, now carry on, program can run with imaginary numbers\"\n",
    "    else:\n",
    "        #it doesn't really matter you can use either condition\n",
    "        #I prefer the og style so here it is. \n",
    "        og_list=[]\n",
    "        og_list.append(pos_quadratic)\n",
    "        og_list.append(neg_quadratic)\n",
    "        return og_list\n",
    "check=full_roots(a,b,c)\n",
    "print (\"one value is\", check[0],\"the other value is\", check[-1] )"
   ]
  },
  {
   "cell_type": "code",
   "execution_count": 12,
   "metadata": {},
   "outputs": [
    {
     "name": "stdout",
     "output_type": "stream",
     "text": [
      "The Binding Energies are: E1=  490.78425241273493 E2=  498.144677545714 E3=  485.30934897614435 and the Binding Energies per Nucleon is: BN1=  8.46179745539198 BN2=  8.443130127893458 BN3=  8.367402568554214\n"
     ]
    }
   ],
   "source": [
    "#The semi-empirical mass formula\n",
    "a1= 15.67\n",
    "a2= 17.23\n",
    "a3= 0.75\n",
    "a4= 93.2\n",
    "def Bind(A,Z):\n",
    "    #B= (a1*A)-a2*(A**(2/3))-a3((Z**2)/(A**1/3))- a4*(((A-2*Z)**2)/A)- a5/(A**(1/2))\n",
    "    if A % 2 == 0 and Z % 2 == 0:\n",
    "        a5=12.0\n",
    "    elif A % 2 == 0 and Z % 2 == 1:\n",
    "        a5=-12.0\n",
    "    elif A % 2 == 1:\n",
    "        a5=0.0\n",
    "    return ((a1*A)-(a2*(A**(2/3)))- (a3*(Z**2)/(A**(1/3)))- (a4*((A-(2*Z))**2)/A)- (a5/(A**(1/2))))\n",
    "A1=58\n",
    "A2=59\n",
    "A3=58\n",
    "Z1=28\n",
    "Z2=28\n",
    "Z3=27\n",
    "E1=Bind(A1,Z1)\n",
    "E2=Bind(A2, Z2)\n",
    "E3=Bind(A3, Z3)\n",
    "BN1= E1/A1\n",
    "BN2= E2/A2\n",
    "BN3= E3/A3\n",
    "print (\"The Binding Energies are: E1= \", E1, \"E2= \", E2, \"E3= \", E3 , \"and the Binding Energies per Nucleon is: BN1= \", BN1, \"BN2= \", BN2, \"BN3= \", BN3 )"
   ]
  },
  {
   "cell_type": "code",
   "execution_count": null,
   "metadata": {},
   "outputs": [],
   "source": []
  },
  {
   "cell_type": "code",
   "execution_count": null,
   "metadata": {},
   "outputs": [],
   "source": []
  }
 ],
 "metadata": {
  "kernelspec": {
   "display_name": "Python 3",
   "language": "python",
   "name": "python3"
  },
  "language_info": {
   "codemirror_mode": {
    "name": "ipython",
    "version": 3
   },
   "file_extension": ".py",
   "mimetype": "text/x-python",
   "name": "python",
   "nbconvert_exporter": "python",
   "pygments_lexer": "ipython3",
   "version": "3.7.3"
  }
 },
 "nbformat": 4,
 "nbformat_minor": 2
}
