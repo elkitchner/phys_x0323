{
 "cells": [
  {
   "cell_type": "code",
   "execution_count": 3,
   "metadata": {},
   "outputs": [],
   "source": [
    "#imput box\n",
    "from math import *\n",
    "import numpy as np"
   ]
  },
  {
   "cell_type": "code",
   "execution_count": 4,
   "metadata": {},
   "outputs": [
    {
     "name": "stdout",
     "output_type": "stream",
     "text": [
      "Enter the satellites period in minutes:45\n",
      "-2181.5598978108233 km with period of 45 mins\n"
     ]
    }
   ],
   "source": [
    "#Orbital Height \n",
    "def height(T):\n",
    "    #constants\n",
    "    G= 6.67*(10**(-11))\n",
    "    M= 5.97*(10**24)\n",
    "    R= 6371000\n",
    "    #numerator of height equation\n",
    "    H1= G*M*((T*60)**2)\n",
    "    #demoninator of height equation\n",
    "    H2= 4*(pi**2)\n",
    "    #taking fraction to ^1/3\n",
    "    H= (H1/H2)**(1/3)\n",
    "    #equation in meters divided by 1000m to get km\n",
    "    h= (H-R)/1000\n",
    "    return h\n",
    "#feel free to try your own satellite period values \n",
    "#I have three values already, 45 mins, 90 mins, and 24 hours (1440 mins) \n",
    "altitude= height(int(input(\"Enter the satellites period in minutes:\")))\n",
    "print(altitude, \"km\", \"with period of 45 mins\")"
   ]
  },
  {
   "cell_type": "code",
   "execution_count": 5,
   "metadata": {},
   "outputs": [
    {
     "name": "stdout",
     "output_type": "stream",
     "text": [
      "when x= 0 we get e^-x= 1.0\n",
      "when x= 10 we get e^-x= 4.5399929433607724e-05\n",
      "when x= 20 we get e^-x= 5.47810291652921e-10\n",
      "when x= 30 we get e^-x= -8.553020689132783e-05\n",
      "when x= 40 we get e^-x= -123.09303988190482\n",
      "when x= 50 we get e^-x= -564767275982.2412\n",
      "when x= 60 we get e^-x= -4.385497375758544e+19\n",
      "when x= 70 we get e^-x= -2.0436358336030707e+26\n",
      "when x= 80 we get e^-x= -1.2156134999799205e+32\n",
      "when x= 90 we get e^-x= -1.5016801896582823e+37\n",
      "when x= 100 we get e^-x= -5.370978717468547e+41\n"
     ]
    }
   ],
   "source": [
    "# example of e^-x\n",
    "#simple case\n",
    "\n",
    "for x in range (0,102, 10):\n",
    "    #put start of list here to prevent other x-value lists to join together\n",
    "    Sn = 0.0\n",
    "    list=[]\n",
    "    for n in range (100):\n",
    "        Sn += ((-1)**n * (x**n)/(np.math.factorial(n)))\n",
    "        list.append(Sn)\n",
    "    print(\"when x=\",x,\"we get e^-x=\", list[-1])"
   ]
  },
  {
   "cell_type": "code",
   "execution_count": 6,
   "metadata": {},
   "outputs": [
    {
     "name": "stdout",
     "output_type": "stream",
     "text": [
      "when x= 0 we get e^-x= 1.0\n",
      "when x= 10 we get e^-x= 4.539992967040021e-05\n",
      "when x= 20 we get e^-x= 6.147561828914626e-09\n",
      "when x= 30 we get e^-x= 6.102999924256412e-06\n",
      "when x= 40 we get e^-x= -122.92837117256363\n",
      "when x= 50 we get e^-x= -564767266924.6326\n",
      "when x= 60 we get e^-x= -4.385497375563963e+19\n",
      "when x= 70 we get e^-x= -2.043635833603175e+26\n",
      "when x= 80 we get e^-x= -1.2156134999799248e+32\n",
      "when x= 90 we get e^-x= -1.5016801896582833e+37\n",
      "when x= 100 we get e^-x= -5.3709787174685515e+41\n"
     ]
    }
   ],
   "source": [
    "#example of e^-x\n",
    "#recursive case\n",
    "recursive_original= 1.0 #calculated by hand\n",
    "for xr in range (0,102,10):\n",
    "    recursivelist=[recursive_original]\n",
    "    for nr in range(1,100):\n",
    "        recursive_old= recursivelist[-1]\n",
    "        recursive_new= -recursive_old *(xr/nr)\n",
    "        recursivelist.append(recursive_new)\n",
    "        final=sum(recursivelist)\n",
    "        \n",
    "    print(\"when x=\",xr, \"we get e^-x=\", final )"
   ]
  },
  {
   "cell_type": "code",
   "execution_count": 7,
   "metadata": {},
   "outputs": [
    {
     "name": "stdout",
     "output_type": "stream",
     "text": [
      "when x= 0 we get e^-x= 1.0\n",
      "when x= 10 we get e^-x= 4.539992976248486e-05\n",
      "when x= 20 we get e^-x= 2.0611536224385583e-09\n",
      "when x= 30 we get e^-x= 9.357622968840171e-14\n",
      "when x= 40 we get e^-x= 4.248354255291594e-18\n",
      "when x= 50 we get e^-x= 1.9287498485811295e-22\n",
      "when x= 60 we get e^-x= 8.756523735728401e-27\n",
      "when x= 70 we get e^-x= 3.977161397179805e-31\n",
      "when x= 80 we get e^-x= 1.8362668153382484e-35\n",
      "when x= 90 we get e^-x= 9.734161245088655e-40\n",
      "when x= 100 we get e^-x= 7.643449333734118e-44\n"
     ]
    }
   ],
   "source": [
    "#example of e^-x\n",
    "#inverse case\n",
    "\n",
    "for xi in range (0,102,10):\n",
    "    inverselist=[]\n",
    "    inverse=0\n",
    "    for ni in range (100):\n",
    "        inverse= (xi**ni)/np.math.factorial(ni)\n",
    "        inverselist.append(inverse)\n",
    "        expx= sum(inverselist)\n",
    "        end= 1/ expx\n",
    "    print (\"when x=\",xi, \"we get e^-x=\", end)"
   ]
  },
  {
   "cell_type": "code",
   "execution_count": 8,
   "metadata": {},
   "outputs": [
    {
     "name": "stdout",
     "output_type": "stream",
     "text": [
      "when x= 0 we get e^-x= 1.0\n",
      "when x= 10 we get e^-x= 4.5399929762484854e-05\n",
      "when x= 20 we get e^-x= 2.061153622438558e-09\n",
      "when x= 30 we get e^-x= 9.357622968840175e-14\n",
      "when x= 40 we get e^-x= 4.248354255291589e-18\n",
      "when x= 50 we get e^-x= 1.9287498479639178e-22\n",
      "when x= 60 we get e^-x= 8.75651076269652e-27\n",
      "when x= 70 we get e^-x= 3.975449735908647e-31\n",
      "when x= 80 we get e^-x= 1.8048513878454153e-35\n",
      "when x= 90 we get e^-x= 8.194012623990515e-40\n",
      "when x= 100 we get e^-x= 3.720075976020836e-44\n"
     ]
    }
   ],
   "source": [
    "#example of e^-x\n",
    "#numpy e^-x\n",
    "\n",
    "for xn in range (0,102,10):\n",
    "    expnegx= np.exp(-xn)\n",
    "    print (\"when x=\", xn , \"we get e^-x=\",expnegx )"
   ]
  },
  {
   "cell_type": "code",
   "execution_count": null,
   "metadata": {},
   "outputs": [],
   "source": []
  }
 ],
 "metadata": {
  "kernelspec": {
   "display_name": "Python 3",
   "language": "python",
   "name": "python3"
  },
  "language_info": {
   "codemirror_mode": {
    "name": "ipython",
    "version": 3
   },
   "file_extension": ".py",
   "mimetype": "text/x-python",
   "name": "python",
   "nbconvert_exporter": "python",
   "pygments_lexer": "ipython3",
   "version": "3.7.3"
  }
 },
 "nbformat": 4,
 "nbformat_minor": 2
}
