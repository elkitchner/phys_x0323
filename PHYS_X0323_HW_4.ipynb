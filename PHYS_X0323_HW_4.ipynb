{
 "cells": [
  {
   "cell_type": "code",
   "execution_count": 1,
   "metadata": {},
   "outputs": [],
   "source": [
    "#Worksheet #1"
   ]
  },
  {
   "cell_type": "code",
   "execution_count": 2,
   "metadata": {},
   "outputs": [
    {
     "name": "stdout",
     "output_type": "stream",
     "text": [
      "<class 'bool'> <class 'float'> <class 'str'> <class 'int'> <class 'str'> <class 'int'> <class 'str'> <class 'bool'> <class 'str'>\n"
     ]
    }
   ],
   "source": [
    "#front page- what are these things\n",
    "a=False\n",
    "b=3.7\n",
    "c='alex'\n",
    "d= 7\n",
    "e= 'true'\n",
    "f=17\n",
    "g='17'\n",
    "h= True\n",
    "i='3.14195'\n",
    "#below we ask python to tell us what this is\n",
    "print(type(a), type(b), type(c), type(d), type(e), type(f), type(g), type(h), type(i))"
   ]
  },
  {
   "cell_type": "code",
   "execution_count": 3,
   "metadata": {},
   "outputs": [
    {
     "name": "stdout",
     "output_type": "stream",
     "text": [
      "False\n",
      "True\n",
      "True\n",
      "True\n",
      "False\n"
     ]
    }
   ],
   "source": [
    "#boolean operators\n",
    "a= False\n",
    "b= True\n",
    "c= False\n",
    "\n",
    "print (b and c)\n",
    "print (b or c)\n",
    "print(not a and b)\n",
    "print ((a and b) or not c)\n",
    "print (not b and not(a or c))"
   ]
  },
  {
   "cell_type": "code",
   "execution_count": 4,
   "metadata": {},
   "outputs": [
    {
     "name": "stdout",
     "output_type": "stream",
     "text": [
      "10\n",
      "9\n",
      "8\n",
      "7\n",
      "6\n",
      "5\n",
      "4\n"
     ]
    }
   ],
   "source": [
    "#code fragment 1\n",
    "num= 10\n",
    "while num > 3:\n",
    "    print (num)\n",
    "    num= num-1"
   ]
  },
  {
   "cell_type": "code",
   "execution_count": 5,
   "metadata": {},
   "outputs": [
    {
     "name": "stdout",
     "output_type": "stream",
     "text": [
      "0.0\n",
      "1.0\n",
      "2.0\n",
      "3.0\n",
      "4.0\n"
     ]
    }
   ],
   "source": [
    "#code fragment 2\n",
    "divisor=2\n",
    "for i in range (0,10,2):\n",
    "    print (i/divisor)"
   ]
  },
  {
   "cell_type": "code",
   "execution_count": 6,
   "metadata": {},
   "outputs": [
    {
     "name": "stdout",
     "output_type": "stream",
     "text": [
      "10\n",
      "9\n",
      "8\n",
      "7\n"
     ]
    }
   ],
   "source": [
    "#code fragment 3\n",
    "num=10\n",
    "while True:\n",
    "    if num <7:\n",
    "        break\n",
    "    print (num)\n",
    "    num-=1"
   ]
  },
  {
   "cell_type": "code",
   "execution_count": 7,
   "metadata": {},
   "outputs": [
    {
     "name": "stdout",
     "output_type": "stream",
     "text": [
      "Letter #  0  is  S\n",
      "Letter #  1  is  n\n",
      "Letter #  2  is  o\n",
      "Letter #  3  is  w\n",
      "Letter #  4  is  !\n"
     ]
    }
   ],
   "source": [
    "#code fragment 4\n",
    "count=0\n",
    "for letter in 'Snow!':\n",
    "    print ('Letter # ', count, ' is ', letter)\n",
    "    count+=1"
   ]
  },
  {
   "cell_type": "code",
   "execution_count": 8,
   "metadata": {},
   "outputs": [
    {
     "name": "stdout",
     "output_type": "stream",
     "text": [
      "10\n",
      "5.0\n",
      "6.0\n",
      "3.0\n",
      "4.0\n",
      "2.0\n",
      "1.0\n",
      "2.0\n",
      "1.0\n",
      "2.0\n"
     ]
    }
   ],
   "source": [
    "#ben bitdiddles code rewritten\n",
    "n=10\n",
    "i=10\n",
    "while i>0 and n>0:\n",
    "    print (i)\n",
    "    if i%2 ==0:\n",
    "        i=i/2\n",
    "    else:\n",
    "        i=i+1\n",
    "    n-=1"
   ]
  },
  {
   "cell_type": "code",
   "execution_count": 9,
   "metadata": {},
   "outputs": [],
   "source": [
    "#WORKSHEET 2"
   ]
  },
  {
   "cell_type": "code",
   "execution_count": 10,
   "metadata": {},
   "outputs": [
    {
     "name": "stdout",
     "output_type": "stream",
     "text": [
      "[3.3333333333333335, 1]\n",
      "c is big True\n"
     ]
    }
   ],
   "source": [
    "#Finding Bugs\n",
    "#define quotient\n",
    "list=[]\n",
    "def quotient (int_1, int_2):\n",
    "    division=int_1/int_2 \n",
    "    remainder= int_1%int_2\n",
    "    list.append(division)\n",
    "    list.append(remainder)\n",
    "    return (list)\n",
    "#define large number function\n",
    "def large_num(num):\n",
    "    if num > 10000:\n",
    "        return True\n",
    "    else:\n",
    "        return False\n",
    "    \n",
    "#use variable to run quotient def\n",
    "a=10\n",
    "b=3\n",
    "quotient_ab= quotient(a, b)\n",
    "print (quotient_ab)\n",
    "\n",
    "#define a variable to run large num function\n",
    "\n",
    "c=1000000\n",
    "big=large_num(c)\n",
    "print('c is big', big)"
   ]
  },
  {
   "cell_type": "code",
   "execution_count": 11,
   "metadata": {},
   "outputs": [
    {
     "name": "stdout",
     "output_type": "stream",
     "text": [
      "think of a number between 1 and 100, but don't tell me what you choose.\n",
      "is it 51 ?yes\n",
      "Woohoo! I got it!\n"
     ]
    }
   ],
   "source": [
    "#mystery quotient\n",
    "print (\"think of a number between 1 and 100, but don't tell me what you choose.\")\n",
    "min_n=1\n",
    "max_n=100\n",
    "right_answer= False\n",
    "\n",
    "while not right_answer:\n",
    "    mid_n= (max_n +min_n +1)//2\n",
    "    answer= input ('is it '+ str(mid_n) + ' ?')\n",
    "    if answer[0]== 'y':\n",
    "        right_answer= True\n",
    "    elif answer.startswith ('higher'):\n",
    "        min_n= mid_n +1\n",
    "    elif answer.startswith ('lower'):\n",
    "        max_n= mid_n-1\n",
    "    else:\n",
    "        print (\"Sorry, I don't understand your answer.\")\n",
    "print ('Woohoo! I got it!')"
   ]
  },
  {
   "cell_type": "code",
   "execution_count": 12,
   "metadata": {},
   "outputs": [
    {
     "name": "stdout",
     "output_type": "stream",
     "text": [
      "pay25000\n",
      "location with CapitalCalifornia\n",
      "No thanks, I can find something better.\n"
     ]
    }
   ],
   "source": [
    "#conditionals\n",
    "pay= int(input(\"pay\"))\n",
    "location= input(\"location with Capital\")\n",
    "if location == \"U.S.S Enterprise\":\n",
    "    print (\"So long suckers! I'll take it!\")\n",
    "elif location == \"Massachusetts\":\n",
    "    if pay < 100000:\n",
    "        print (\"No Way!\")\n",
    "    else:\n",
    "        print (\"I'll take it!\")\n",
    "elif location == \"California\" and pay > 40000:\n",
    "    print (\"I'll take it!\")\n",
    "elif pay > 60000:\n",
    "    print (\"I'll take it!\")\n",
    "else:\n",
    "    print(\"No thanks, I can find something better.\")"
   ]
  },
  {
   "cell_type": "code",
   "execution_count": null,
   "metadata": {},
   "outputs": [],
   "source": []
  }
 ],
 "metadata": {
  "kernelspec": {
   "display_name": "Python 3",
   "language": "python",
   "name": "python3"
  },
  "language_info": {
   "codemirror_mode": {
    "name": "ipython",
    "version": 3
   },
   "file_extension": ".py",
   "mimetype": "text/x-python",
   "name": "python",
   "nbconvert_exporter": "python",
   "pygments_lexer": "ipython3",
   "version": "3.7.3"
  }
 },
 "nbformat": 4,
 "nbformat_minor": 2
}
